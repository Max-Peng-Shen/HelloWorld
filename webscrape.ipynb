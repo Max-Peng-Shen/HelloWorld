{
 "cells": [
  {
   "cell_type": "code",
   "execution_count": 1,
   "metadata": {},
   "outputs": [],
   "source": [
    "import requests\n",
    "from bs4 import BeautifulSoup\n",
    "## pip install requests\n",
    "## pip install --upgrade beautifulsoup4\n",
    "## pip install --upgrade requests"
   ]
  },
  {
   "cell_type": "markdown",
   "metadata": {},
   "source": [
    "## Get the Site"
   ]
  },
  {
   "cell_type": "code",
   "execution_count": 5,
   "metadata": {},
   "outputs": [],
   "source": [
    "url = 'http://www.fieldexperiments.com/papers/'\n",
    "page = requests.get(url)"
   ]
  },
  {
   "cell_type": "code",
   "execution_count": 3,
   "metadata": {},
   "outputs": [
    {
     "data": {
      "text/plain": [
       "<Response [200]>"
      ]
     },
     "execution_count": 3,
     "metadata": {},
     "output_type": "execute_result"
    }
   ],
   "source": [
    "page"
   ]
  },
  {
   "cell_type": "code",
   "execution_count": null,
   "metadata": {},
   "outputs": [],
   "source": [
    "page.content"
   ]
  },
  {
   "cell_type": "markdown",
   "metadata": {},
   "source": [
    "## Parse the response content\n"
   ]
  },
  {
   "cell_type": "code",
   "execution_count": null,
   "metadata": {},
   "outputs": [],
   "source": [
    "soup = BeautifulSoup(page.content, \"html.parser\")\n",
    "print(soup.prettify())"
   ]
  },
  {
   "cell_type": "markdown",
   "metadata": {},
   "source": [
    "## Navigating the HTML"
   ]
  },
  {
   "cell_type": "code",
   "execution_count": 7,
   "metadata": {},
   "outputs": [
    {
     "data": {
      "text/plain": [
       "<title>Field Experiments</title>"
      ]
     },
     "execution_count": 7,
     "metadata": {},
     "output_type": "execute_result"
    }
   ],
   "source": [
    "soup.title"
   ]
  },
  {
   "cell_type": "code",
   "execution_count": 8,
   "metadata": {},
   "outputs": [
    {
     "data": {
      "text/plain": [
       "'Field Experiments'"
      ]
     },
     "execution_count": 8,
     "metadata": {},
     "output_type": "execute_result"
    }
   ],
   "source": [
    "soup.title.text"
   ]
  },
  {
   "cell_type": "code",
   "execution_count": 9,
   "metadata": {},
   "outputs": [
    {
     "data": {
      "text/plain": [
       "'Field Experiments'"
      ]
     },
     "execution_count": 9,
     "metadata": {},
     "output_type": "execute_result"
    }
   ],
   "source": [
    "soup.title.string"
   ]
  },
  {
   "cell_type": "raw",
   "metadata": {},
   "source": [
    "Create a list of certain types of html tags\n",
    "using find_all, (e.g. 'p', 'a', 'div')"
   ]
  },
  {
   "cell_type": "code",
   "execution_count": null,
   "metadata": {},
   "outputs": [],
   "source": [
    "soup.find_all('a')\n",
    "soup.find_all('div')"
   ]
  },
  {
   "cell_type": "markdown",
   "metadata": {},
   "source": [
    "### Find element by 'id'"
   ]
  },
  {
   "cell_type": "code",
   "execution_count": null,
   "metadata": {},
   "outputs": [],
   "source": [
    "container = soup.find(id = 'accordion')\n",
    "container"
   ]
  },
  {
   "cell_type": "markdown",
   "metadata": {},
   "source": [
    "Let's get a list of all elements with CSS class name 'panel'"
   ]
  },
  {
   "cell_type": "code",
   "execution_count": null,
   "metadata": {},
   "outputs": [],
   "source": [
    "paperList = container.find_all('div', class_='panel')\n",
    "paperList"
   ]
  },
  {
   "cell_type": "code",
   "execution_count": null,
   "metadata": {},
   "outputs": [],
   "source": [
    "first = paperList[0]\n",
    "first"
   ]
  },
  {
   "cell_type": "code",
   "execution_count": 16,
   "metadata": {},
   "outputs": [
    {
     "data": {
      "text/plain": [
       "\"2020: A Summary Of Artefactual Field Experiments On Fieldexperiments.Com: The Who's, What's, Where's, And When's\""
      ]
     },
     "execution_count": 16,
     "metadata": {},
     "output_type": "execute_result"
    }
   ],
   "source": [
    "title = first.find('a').text\n",
    "title"
   ]
  },
  {
   "cell_type": "code",
   "execution_count": 19,
   "metadata": {},
   "outputs": [
    {
     "data": {
      "text/plain": [
       "'List John A'"
      ]
     },
     "execution_count": 19,
     "metadata": {},
     "output_type": "execute_result"
    }
   ],
   "source": [
    "authorsList = first.find_all(attrs={'name': 'citation_author'})\n",
    "first_author = authorsList[0]['content']\n",
    "first_author"
   ]
  },
  {
   "cell_type": "code",
   "execution_count": 20,
   "metadata": {},
   "outputs": [],
   "source": [
    "yearMeta = first.find(attrs={'name': 'citation_publication_date'})"
   ]
  },
  {
   "cell_type": "code",
   "execution_count": 22,
   "metadata": {},
   "outputs": [
    {
     "data": {
      "text/plain": [
       "'2020'"
      ]
     },
     "execution_count": 22,
     "metadata": {},
     "output_type": "execute_result"
    }
   ],
   "source": [
    "year = yearMeta['content']\n",
    "year"
   ]
  },
  {
   "cell_type": "code",
   "execution_count": 25,
   "metadata": {},
   "outputs": [
    {
     "data": {
      "text/plain": [
       "[{'title': \"2020: A Summary Of Artefactual Field Experiments On Fieldexperiments.Com: The Who's, What's, Where's, And When's\",\n",
       "  'first_author': 'List John A',\n",
       "  'year': '2020'},\n",
       " {'title': \"2020: A Summary Of Framed Field Experiments On Fieldexperiments.Com: The Who's, What's Where's, And When's\",\n",
       "  'first_author': 'List John A',\n",
       "  'year': '2020'},\n",
       " {'title': '2020 Summary Data Of Natural Field Experiments Published On Fieldexperiments.Com',\n",
       "  'first_author': 'List John A',\n",
       "  'year': '2020'},\n",
       " {'title': '2021 Summary Data Of Artefactual Field Experiments Published On Fieldexperiments.Com',\n",
       "  'first_author': 'List John A',\n",
       "  'year': '2022'},\n",
       " {'title': '2021 Summary Data Of Natural Field Experiments Published On Fieldexperiments.Com',\n",
       "  'first_author': 'List John A',\n",
       "  'year': ''},\n",
       " {'title': 'Academic Economists Behaving Badly? A Survey On Three Areas Of Unethical Behavior',\n",
       "  'first_author': 'Bailey Charles ',\n",
       "  'year': '2001'},\n",
       " {'title': 'Achievement Awards For High School Matriculation: Evidence From Randomized Trials',\n",
       "  'first_author': 'Angrist Joshua D',\n",
       "  'year': '2003'},\n",
       " {'title': 'Actions And Beliefs: Estimating Distribution-Based Preferences Using A Large Scale Experiment With Probability Questions On Expectations',\n",
       "  'first_author': 'Bellemare Charles ',\n",
       "  'year': '2005'},\n",
       " {'title': 'Active Decisions And Pro-Social Behavior: A Field Experiment On Blood Donation',\n",
       "  'first_author': 'Goette Lorenz ',\n",
       "  'year': '2007'},\n",
       " {'title': 'A Dollar For Your Thoughts: Feedback-Conditional Rebates On Ebay',\n",
       "  'first_author': 'Cabral Luis ',\n",
       "  'year': '2015'}]"
      ]
     },
     "execution_count": 25,
     "metadata": {},
     "output_type": "execute_result"
    }
   ],
   "source": [
    "d = []\n",
    "for paper in paperList:\n",
    "    title = paper.find('a').text\n",
    "    \n",
    "    authorsList = paper.find_all(attrs = {'name': 'citation_author'})\n",
    "    first_author = authorsList[0]['content']\n",
    "    \n",
    "    yearMeta = paper.find(attrs={'name': 'citation_publication_date'})\n",
    "    year = yearMeta['content']\n",
    "    \n",
    "    tempDict = dict(\n",
    "        title=title,\n",
    "        first_author = first_author,\n",
    "        year = year\n",
    "    )\n",
    "    \n",
    "#    tempDict = {\n",
    "#        'title': title,\n",
    "#        'first_author': first_author\n",
    "#        'year': year\n",
    "#    }\n",
    "    \n",
    "    d.append(tempDict)\n",
    "    \n",
    "    \n",
    "d"
   ]
  },
  {
   "cell_type": "code",
   "execution_count": 27,
   "metadata": {},
   "outputs": [
    {
     "data": {
      "text/html": [
       "<div>\n",
       "<style scoped>\n",
       "    .dataframe tbody tr th:only-of-type {\n",
       "        vertical-align: middle;\n",
       "    }\n",
       "\n",
       "    .dataframe tbody tr th {\n",
       "        vertical-align: top;\n",
       "    }\n",
       "\n",
       "    .dataframe thead th {\n",
       "        text-align: right;\n",
       "    }\n",
       "</style>\n",
       "<table border=\"1\" class=\"dataframe\">\n",
       "  <thead>\n",
       "    <tr style=\"text-align: right;\">\n",
       "      <th></th>\n",
       "      <th>title</th>\n",
       "      <th>first_author</th>\n",
       "      <th>year</th>\n",
       "    </tr>\n",
       "  </thead>\n",
       "  <tbody>\n",
       "    <tr>\n",
       "      <th>0</th>\n",
       "      <td>2020: A Summary Of Artefactual Field Experimen...</td>\n",
       "      <td>List John A</td>\n",
       "      <td>2020</td>\n",
       "    </tr>\n",
       "    <tr>\n",
       "      <th>1</th>\n",
       "      <td>2020: A Summary Of Framed Field Experiments On...</td>\n",
       "      <td>List John A</td>\n",
       "      <td>2020</td>\n",
       "    </tr>\n",
       "    <tr>\n",
       "      <th>2</th>\n",
       "      <td>2020 Summary Data Of Natural Field Experiments...</td>\n",
       "      <td>List John A</td>\n",
       "      <td>2020</td>\n",
       "    </tr>\n",
       "    <tr>\n",
       "      <th>3</th>\n",
       "      <td>2021 Summary Data Of Artefactual Field Experim...</td>\n",
       "      <td>List John A</td>\n",
       "      <td>2022</td>\n",
       "    </tr>\n",
       "    <tr>\n",
       "      <th>4</th>\n",
       "      <td>2021 Summary Data Of Natural Field Experiments...</td>\n",
       "      <td>List John A</td>\n",
       "      <td></td>\n",
       "    </tr>\n",
       "    <tr>\n",
       "      <th>5</th>\n",
       "      <td>Academic Economists Behaving Badly? A Survey O...</td>\n",
       "      <td>Bailey Charles</td>\n",
       "      <td>2001</td>\n",
       "    </tr>\n",
       "    <tr>\n",
       "      <th>6</th>\n",
       "      <td>Achievement Awards For High School Matriculati...</td>\n",
       "      <td>Angrist Joshua D</td>\n",
       "      <td>2003</td>\n",
       "    </tr>\n",
       "    <tr>\n",
       "      <th>7</th>\n",
       "      <td>Actions And Beliefs: Estimating Distribution-B...</td>\n",
       "      <td>Bellemare Charles</td>\n",
       "      <td>2005</td>\n",
       "    </tr>\n",
       "    <tr>\n",
       "      <th>8</th>\n",
       "      <td>Active Decisions And Pro-Social Behavior: A Fi...</td>\n",
       "      <td>Goette Lorenz</td>\n",
       "      <td>2007</td>\n",
       "    </tr>\n",
       "    <tr>\n",
       "      <th>9</th>\n",
       "      <td>A Dollar For Your Thoughts: Feedback-Condition...</td>\n",
       "      <td>Cabral Luis</td>\n",
       "      <td>2015</td>\n",
       "    </tr>\n",
       "  </tbody>\n",
       "</table>\n",
       "</div>"
      ],
      "text/plain": [
       "                                               title        first_author  year\n",
       "0  2020: A Summary Of Artefactual Field Experimen...         List John A  2020\n",
       "1  2020: A Summary Of Framed Field Experiments On...         List John A  2020\n",
       "2  2020 Summary Data Of Natural Field Experiments...         List John A  2020\n",
       "3  2021 Summary Data Of Artefactual Field Experim...         List John A  2022\n",
       "4  2021 Summary Data Of Natural Field Experiments...         List John A      \n",
       "5  Academic Economists Behaving Badly? A Survey O...     Bailey Charles   2001\n",
       "6  Achievement Awards For High School Matriculati...    Angrist Joshua D  2003\n",
       "7  Actions And Beliefs: Estimating Distribution-B...  Bellemare Charles   2005\n",
       "8  Active Decisions And Pro-Social Behavior: A Fi...      Goette Lorenz   2007\n",
       "9  A Dollar For Your Thoughts: Feedback-Condition...        Cabral Luis   2015"
      ]
     },
     "execution_count": 27,
     "metadata": {},
     "output_type": "execute_result"
    }
   ],
   "source": [
    "import pandas as pd\n",
    "\n",
    "df = pd.DataFrame(d)\n",
    "df"
   ]
  },
  {
   "cell_type": "code",
   "execution_count": 28,
   "metadata": {},
   "outputs": [],
   "source": [
    "import os\n",
    "\n",
    "csvFilePath = os.path.join(os.getcwd(), 'fe_scrape.csv')\n",
    "df.to_csv(csvFilePath, index=False)"
   ]
  },
  {
   "cell_type": "code",
   "execution_count": null,
   "metadata": {},
   "outputs": [],
   "source": [
    "d = []\n",
    "for i in range(1, 71):\n",
    "    url = f'http://www.fieldexperiments.com/papers/?page={i}'\n",
    "    print(url)\n",
    "    \n",
    "    ## run all the code to parse the html further\n",
    "    \n",
    "    # d.append(tempDict)\n",
    "    \n",
    "## create dataframe and export to csv"
   ]
  },
  {
   "cell_type": "code",
   "execution_count": null,
   "metadata": {},
   "outputs": [],
   "source": []
  }
 ],
 "metadata": {
  "kernelspec": {
   "display_name": "Python 3",
   "language": "python",
   "name": "python3"
  },
  "language_info": {
   "codemirror_mode": {
    "name": "ipython",
    "version": 3
   },
   "file_extension": ".py",
   "mimetype": "text/x-python",
   "name": "python",
   "nbconvert_exporter": "python",
   "pygments_lexer": "ipython3",
   "version": "3.8.5"
  }
 },
 "nbformat": 4,
 "nbformat_minor": 4
}
