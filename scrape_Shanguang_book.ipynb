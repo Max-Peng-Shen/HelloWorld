{
 "cells": [
  {
   "cell_type": "code",
   "execution_count": 1,
   "metadata": {},
   "outputs": [],
   "source": [
    "import csv\n",
    "import requests\n",
    "from bs4 import BeautifulSoup"
   ]
  },
  {
   "cell_type": "code",
   "execution_count": 2,
   "metadata": {},
   "outputs": [],
   "source": [
    "# 设置列表，用以存储每条评论的信息\n",
    "data_list = []"
   ]
  },
  {
   "cell_type": "code",
   "execution_count": 4,
   "metadata": {},
   "outputs": [
    {
     "name": "stdin",
     "output_type": "stream",
     "text": [
      "请输入用户名： maxpengshen\n",
      "请输入密码： 19890328max\n"
     ]
    }
   ],
   "source": [
    "# 设置登录网站的请求网址\n",
    "login_url = 'https://wp.forchange.cn/wp-admin/admin-ajax.php'\n",
    "# 输入用户的账号密码\n",
    "username = input('请输入用户名：')\n",
    "password = input('请输入密码：')"
   ]
  },
  {
   "cell_type": "code",
   "execution_count": 5,
   "metadata": {},
   "outputs": [],
   "source": [
    "# 设置登录请求的请求体数据\n",
    "login_data = {\n",
    "    'action': 'ajaxlogin',\n",
    "    'username': username,\n",
    "    'password': password,\n",
    "    'remember': 'true'\n",
    "}\n",
    "\n",
    "# 请求登录网站\n",
    "login_res = requests.post(login_url, data=login_data)\n",
    "\n",
    "# 设置要请求的书籍网页链接\n",
    "comment_url = 'https://wp.forchange.cn/psychology/11069/comment-page-1/'\n",
    "# 携带获取到的 Cookies 信息请求书籍网页\n",
    "comment_res = requests.get(comment_url, cookies=login_res.cookies)\n",
    "# 解析请求到的书籍网页内容\n",
    "soup = BeautifulSoup(comment_res.text, 'html.parser')\n",
    "# 搜索网页中所有包含评论的 Tag\n",
    "comments_list = soup.find_all('div', class_='comment-txt')"
   ]
  },
  {
   "cell_type": "code",
   "execution_count": 6,
   "metadata": {},
   "outputs": [
    {
     "name": "stdout",
     "output_type": "stream",
     "text": [
      "[{'用户名': 'happyant521', '评论时间': '2021.2.5 06:02', '评论内容': '真的能回复耶！哈哈'}, {'用户名': '15534078485', '评论时间': '2021.3.12 16:03', '评论内容': '评论区+1楼'}, {'用户名': 'xj123456', '评论时间': '2021.5.14 09:05', '评论内容': '到此 一游，哈哈哈哈'}, {'用户名': 'tomhanxisi', '评论时间': '2021.6.21 22:06', '评论内容': '我tomhanxisi到此一游！！！学习爬虫'}, {'用户名': 'tomhanxisi', '评论时间': '2021.6.21 22:06', '评论内容': 'good!'}]\n"
     ]
    }
   ],
   "source": [
    "# 使用 for 循环遍历搜索结果\n",
    "for comment in comments_list:\n",
    "    # 提取用户名\n",
    "    comment_author = comment.find('cite', class_='fn').text[:-2]\n",
    "    # 提取评论时间\n",
    "    comment_time = comment.find('p', class_='date').text\n",
    "    # 提取评论内容\n",
    "    comment_content = comment.find('div', class_='bd').find('p').text\n",
    "\n",
    "    # 将评论的信息添加到字典中\n",
    "    comment_dict = {\n",
    "        '用户名': comment_author,\n",
    "        '评论时间': comment_time,\n",
    "        '评论内容': comment_content\n",
    "    }\n",
    "\n",
    "    # 打印评论的信息\n",
    "    #print(comment_dict)\n",
    "    # 存储每条评论的信息\n",
    "    data_list.append(comment_dict)\n",
    "print(data_list[1:6])    "
   ]
  },
  {
   "cell_type": "code",
   "execution_count": 7,
   "metadata": {},
   "outputs": [],
   "source": [
    "# 新建 csv 文件，用以存储评论的信息\n",
    "with open('comments.csv', 'w', encoding='utf-8-sig') as f:\n",
    "    # 将文件对象转换成 DictWriter 对象\n",
    "    f_csv = csv.DictWriter(f, fieldnames=data_list[1].keys())\n",
    "    # 写入表头与数据\n",
    "    f_csv.writeheader()\n",
    "    f_csv.writerows(data_list)"
   ]
  },
  {
   "cell_type": "code",
   "execution_count": null,
   "metadata": {},
   "outputs": [],
   "source": []
  }
 ],
 "metadata": {
  "kernelspec": {
   "display_name": "Python 3",
   "language": "python",
   "name": "python3"
  },
  "language_info": {
   "codemirror_mode": {
    "name": "ipython",
    "version": 3
   },
   "file_extension": ".py",
   "mimetype": "text/x-python",
   "name": "python",
   "nbconvert_exporter": "python",
   "pygments_lexer": "ipython3",
   "version": "3.8.5"
  }
 },
 "nbformat": 4,
 "nbformat_minor": 4
}
