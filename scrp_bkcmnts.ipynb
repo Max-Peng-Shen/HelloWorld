{
 "cells": [
  {
   "cell_type": "code",
   "execution_count": 14,
   "metadata": {},
   "outputs": [],
   "source": [
    "import csv\n",
    "import requests\n",
    "from bs4 import BeautifulSoup"
   ]
  },
  {
   "cell_type": "code",
   "execution_count": 20,
   "metadata": {},
   "outputs": [],
   "source": [
    "# 设置列表，用以存储每条评论的信息\n",
    "data_list = []"
   ]
  },
  {
   "cell_type": "code",
   "execution_count": 3,
   "metadata": {},
   "outputs": [
    {
     "name": "stdin",
     "output_type": "stream",
     "text": [
      "请输入用户名： maxpengshen\n",
      "请输入密码： 19890328max\n"
     ]
    }
   ],
   "source": [
    "# 设置登录网站的请求网址\n",
    "login_url = 'https://wp.forchange.cn/wp-admin/admin-ajax.php'\n",
    "# 输入用户的账号密码\n",
    "username = input('请输入用户名：')\n",
    "password = input('请输入密码：')"
   ]
  },
  {
   "cell_type": "code",
   "execution_count": 16,
   "metadata": {},
   "outputs": [],
   "source": [
    "# 设置登录请求的请求体数据\n",
    "login_data = {\n",
    "    'action': 'ajaxlogin',\n",
    "    'username': username,\n",
    "    'password': password,\n",
    "    'remember': 'true'\n",
    "}\n",
    "\n",
    "# 请求登录网站\n",
    "login_res = requests.post(login_url, data=login_data)\n",
    "cookies = login_res.cookies\n",
    "# 设置要请求的书籍网页链接\n",
    "comment_url = 'https://wp.forchange.cn/psychology/11069/comment-page-1/'\n",
    "# 携带获取到的 Cookies 信息请求书籍网页\n",
    "comment_res = requests.get(comment_url, cookies=cookies)\n",
    "# 解析请求到的书籍网页内容\n",
    "soup = BeautifulSoup(comment_res.text, 'html.parser')\n",
    "# 搜索网页中所有包含评论的 Tag\n",
    "comments_list = soup.find_all('div', class_='comment-txt')"
   ]
  },
  {
   "cell_type": "code",
   "execution_count": 21,
   "metadata": {},
   "outputs": [
    {
     "name": "stdout",
     "output_type": "stream",
     "text": [
      "[{'username': 'happyant521', 'post-time': '2021.2.5 06:02', 'comment': '真的能回复耶！哈哈'}, {'username': '15534078485', 'post-time': '2021.3.12 16:03', 'comment': '评论区+1楼'}, {'username': 'xj123456', 'post-time': '2021.5.14 09:05', 'comment': '到此 一游，哈哈哈哈'}, {'username': 'tomhanxisi', 'post-time': '2021.6.21 22:06', 'comment': '我tomhanxisi到此一游！！！学习爬虫'}, {'username': 'tomhanxisi', 'post-time': '2021.6.21 22:06', 'comment': 'good!'}]\n"
     ]
    }
   ],
   "source": [
    "# 使用 for 循环遍历搜索结果\n",
    "for comment in comments_list:\n",
    "    # 提取用户名\n",
    "    comment_author = comment.find('cite', class_='fn').text[:-2]\n",
    "    # 提取评论时间\n",
    "    comment_time = comment.find('p', class_='date').text\n",
    "    # 提取评论内容\n",
    "    comment_content = comment.find('div', class_='bd').find('p').text\n",
    "\n",
    "    # 将评论的信息添加到字典中\n",
    "    comment_dict = {\n",
    "        'username': comment_author,\n",
    "        'post-time': comment_time,\n",
    "        'comment': comment_content\n",
    "    }\n",
    "\n",
    "    # 打印评论的信息\n",
    "    #print(comment_dict)\n",
    "    # 存储每条评论的信息\n",
    "    data_list.append(comment_dict)\n",
    "print(data_list[1:6])    "
   ]
  },
  {
   "cell_type": "markdown",
   "metadata": {},
   "source": [
    "## Scrape down multiple pages of comments:"
   ]
  },
  {
   "cell_type": "code",
   "execution_count": 22,
   "metadata": {},
   "outputs": [
    {
     "name": "stdout",
     "output_type": "stream",
     "text": [
      "[{'username': '金林', 'post-time': '2020.9.17 12:09', 'comment': '不仅是心理学研究者必备的一本书籍，对于其他领域的专家、学者和工作者们也有着借鉴作用。比如书中对于犯罪群体的阐述，说明群体的犯罪倾向等，对于研究犯罪心理学的人们以及法律工作者们，也会有莫大的帮助。《乌合之众》对于从事或研究政治经济的人们也会有帮助。书中对于选民群体和议会群体心理的研究，有许多值得借鉴之处。'}, {'username': '减肥咖啡可', 'post-time': '2020.9.17 12:09', 'comment': '其实关于这本书，一直以来有一些非常有意思的争论。比如说，有很多著名的学者指出，勒庞在这本书里提出的结论过于偏激和武断，既没有严谨的推理过程，也缺乏可靠的事实依据。可能是因为勒庞是一个业余学者，所以他提出的问题非常精彩、切中要害，但是他的确不太擅长运用准确的科学方法，对提出的问题进行分析。所以不太收到学院派的待见。了解背景后再读发现作者的深刻构思，也给予我们很多思考。'}, {'username': 'diffang', 'post-time': '2020.9.17 12:09', 'comment': '《乌合之众》，很薄的一本书，却是社会心理学领域已有著作中最有影响力的，读完这本内容极为精致的书也真的不是一件容易的事。但读完后发现看世界的感觉变得不同了，非常受益！！'}, {'username': '古古怪怪g', 'post-time': '2020.9.17 12:09', 'comment': '《乌合之众：大众心理研究》不仅是心理学研究者必备的一本书籍，对于其他领域的专家、学者和工作者们也有着借鉴作用。比如书中对于犯罪群体的阐述，说明群体的犯罪倾向等，对于研究犯罪心理学的人们以及法律工作者们，也会有莫大的帮助。《乌合之众》对于从事或研究政治经济的人们也会有帮助。书中对于选民群体和议会群体心理的研究，有许多值得借鉴之处。'}, {'username': 'jciiiiiiiiii', 'post-time': '2020.9.17 12:09', 'comment': '之前看到著名投资家索罗斯说，《乌合之众》是一本可怕的书，他将社会大众的心理阴暗面毫不掩饰的暴露在阳光之下暴晒，别有用心的人甚至可以利用群体的种种心理弱点成为其权力与财富的抓手。例如：它成功预测了20世纪几乎所有的心理学和政治发展，被希特勒利用，成功煽动一战以后德国社会民众心理中的不满，使之成为纳粹主义的狂热群体。'}]\n"
     ]
    }
   ],
   "source": [
    "for pge_num in range(2, 7):\n",
    "    # 设置要请求的书籍评论页链接\n",
    "    cmt_url = 'https://wp.forchange.cn/psychology/11069/comment-page-{}/#comments'.format(pge_num)\n",
    "    # 请求书籍评论页\n",
    "    cmt_res = requests.get(cmt_url, cookies=cookies)\n",
    "    # 解析请求到的书籍评论页内容\n",
    "    sp = BeautifulSoup(cmt_res.text, 'html.parser')\n",
    "    # 搜索网页中所有包含评论的 Tag\n",
    "    cmnts_lst = sp.find_all('div', class_='comment-txt')\n",
    "    \n",
    "    # 使用 for 循环遍历搜索结果\n",
    "    for cmt in cmnts_lst:\n",
    "        # 提取用户名\n",
    "        cmt_poster = cmt.find('cite', class_='fn').text[:-2]\n",
    "        # 提取评论时间\n",
    "        cmt_time = cmt.find('p', class_='date').text\n",
    "        # 提取评论内容\n",
    "        cmt_cntnt = cmt.find('div', class_='bd').find('p').text\n",
    "\n",
    "        # 将评论的信息添加到字典中\n",
    "        cmt_dct = {\n",
    "            'username':cmt_poster,\n",
    "            'post-time':cmt_time,\n",
    "            'comment':cmt_cntnt\n",
    "        }\n",
    "\n",
    "        # print(cmt_dct)\n",
    "        # 存储每条评论的信息\n",
    "        data_list.append(cmt_dct)\n",
    "print(data_list[-6:-1])"
   ]
  },
  {
   "cell_type": "markdown",
   "metadata": {},
   "source": [
    "# 新建 csv 文件，用以存储评论的信息"
   ]
  },
  {
   "cell_type": "code",
   "execution_count": 23,
   "metadata": {},
   "outputs": [],
   "source": [
    "with open('comments.csv', 'w', encoding='utf-8-sig') as f:\n",
    "    # 将文件对象转换成 DictWriter 对象\n",
    "    f_csv = csv.DictWriter(f, fieldnames=data_list[1].keys())\n",
    "    # 写入表头与数据\n",
    "    f_csv.writeheader()\n",
    "    f_csv.writerows(data_list)"
   ]
  },
  {
   "cell_type": "code",
   "execution_count": null,
   "metadata": {},
   "outputs": [],
   "source": []
  }
 ],
 "metadata": {
  "kernelspec": {
   "display_name": "Python 3",
   "language": "python",
   "name": "python3"
  },
  "language_info": {
   "codemirror_mode": {
    "name": "ipython",
    "version": 3
   },
   "file_extension": ".py",
   "mimetype": "text/x-python",
   "name": "python",
   "nbconvert_exporter": "python",
   "pygments_lexer": "ipython3",
   "version": "3.8.5"
  }
 },
 "nbformat": 4,
 "nbformat_minor": 4
}
