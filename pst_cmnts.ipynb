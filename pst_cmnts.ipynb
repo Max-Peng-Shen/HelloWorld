{
 "cells": [
  {
   "cell_type": "code",
   "execution_count": 1,
   "metadata": {},
   "outputs": [
    {
     "name": "stdin",
     "output_type": "stream",
     "text": [
      "请输入用户名： maxpengshen\n",
      "请输入密码： 19890328max\n"
     ]
    }
   ],
   "source": [
    "import requests\n",
    "\n",
    "# 输入用户的账号密码\n",
    "username = input('请输入用户名：')\n",
    "password = input('请输入密码：')"
   ]
  },
  {
   "cell_type": "code",
   "execution_count": 2,
   "metadata": {},
   "outputs": [],
   "source": [
    "# 设置登录请求的请求体数据\n",
    "login_data = {\n",
    "    'action': 'ajaxlogin',\n",
    "    'username': username,\n",
    "    'password': password,\n",
    "    'remember': 'true'\n",
    "}"
   ]
  },
  {
   "cell_type": "code",
   "execution_count": 3,
   "metadata": {},
   "outputs": [
    {
     "name": "stdin",
     "output_type": "stream",
     "text": [
      "请输入评论内容： This is a book of classical theory in sociology\n"
     ]
    }
   ],
   "source": [
    "# 设置登录网站的请求网址\n",
    "login_url = 'https://wp.forchange.cn/wp-admin/admin-ajax.php'\n",
    "# 请求登录网站\n",
    "login_res = requests.post(login_url, data=login_data)\n",
    "\n",
    "# 设置要请求的书籍评论页链接\n",
    "comment_url = 'https://wp.forchange.cn/wp-comments-post.php'\n",
    "# 输入要评论的内容\n",
    "comment = input('请输入评论内容：')\n"
   ]
  },
  {
   "cell_type": "code",
   "execution_count": 4,
   "metadata": {},
   "outputs": [],
   "source": [
    "# 设置书籍评论页链接中，请求体的表单数据\n",
    "comment_data = {\n",
    "    'comment': comment,\n",
    "    'submit': '',\n",
    "    'comment_post_ID': 11069,\n",
    "    'comment_parent': 0\n",
    "}"
   ]
  },
  {
   "cell_type": "code",
   "execution_count": 5,
   "metadata": {},
   "outputs": [
    {
     "name": "stdout",
     "output_type": "stream",
     "text": [
      "200\n"
     ]
    }
   ],
   "source": [
    "# 请求评论页\n",
    "comment_res = requests.post(comment_url, data=comment_data, cookies=login_res.cookies)\n",
    "print(comment_res.status_code)"
   ]
  },
  {
   "cell_type": "code",
   "execution_count": null,
   "metadata": {},
   "outputs": [],
   "source": []
  }
 ],
 "metadata": {
  "kernelspec": {
   "display_name": "Python 3",
   "language": "python",
   "name": "python3"
  },
  "language_info": {
   "codemirror_mode": {
    "name": "ipython",
    "version": 3
   },
   "file_extension": ".py",
   "mimetype": "text/x-python",
   "name": "python",
   "nbconvert_exporter": "python",
   "pygments_lexer": "ipython3",
   "version": "3.8.5"
  }
 },
 "nbformat": 4,
 "nbformat_minor": 4
}
