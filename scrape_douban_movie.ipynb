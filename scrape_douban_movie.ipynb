{
 "cells": [
  {
   "cell_type": "code",
   "execution_count": 1,
   "metadata": {},
   "outputs": [],
   "source": [
    "import csv\n",
    "import requests\n",
    "from bs4 import BeautifulSoup"
   ]
  },
  {
   "cell_type": "code",
   "execution_count": 2,
   "metadata": {},
   "outputs": [],
   "source": [
    "# 设置列表，用以存储每部电影的信息\n",
    "data_list = []\n",
    "# 设置请求头\n",
    "headers = {\n",
    "    'User-Agent': 'Mozilla/5.0 (Macintosh; Intel Mac OS X 10_14_6) AppleWebKit/537.36 (KHTML, like Gecko) Chrome/85.0.4183.102 Safari/537.36'\n",
    "}"
   ]
  },
  {
   "cell_type": "code",
   "execution_count": 4,
   "metadata": {},
   "outputs": [
    {
     "name": "stdout",
     "output_type": "stream",
     "text": [
      "[{'序号': '2', '电影名': '霸王别姬', '评分': '9.6', '推荐语': '风华绝代。', '链接': 'https://movie.douban.com/subject/1291546/'}, {'序号': '3', '电影名': '阿甘正传', '评分': '9.5', '推荐语': '一部美国近现代史。', '链接': 'https://movie.douban.com/subject/1292720/'}, {'序号': '4', '电影名': '泰坦尼克号', '评分': '9.4', '推荐语': '失去的才是永恒的。 ', '链接': 'https://movie.douban.com/subject/1292722/'}, {'序号': '5', '电影名': '这个杀手不太冷', '评分': '9.4', '推荐语': '怪蜀黍和小萝莉不得不说的故事。', '链接': 'https://movie.douban.com/subject/1295644/'}, {'序号': '6', '电影名': '美丽人生', '评分': '9.6', '推荐语': '最美的谎言。', '链接': 'https://movie.douban.com/subject/1292063/'}]\n"
     ]
    }
   ],
   "source": [
    "# 使用 for 循环遍历取值范围为 0~3 的数据\n",
    "for page_number in range(4):\n",
    "    # 设置要请求的网页链接\n",
    "    url = 'https://movie.douban.com/top250?start={}&filter='.format(page_number * 25)\n",
    "    # 请求网页\n",
    "    movies_list_res = requests.get(url, headers=headers)\n",
    "    # 解析请求到的网页内容\n",
    "    bs = BeautifulSoup(movies_list_res.text, 'html.parser')\n",
    "    # 搜索网页中所有包含单部电影全部信息的 Tag\n",
    "    movies_list = bs.find_all('div', class_='item')\n",
    "    \n",
    "    # 使用 for 循环遍历搜索结果\n",
    "    for movie in movies_list:\n",
    "        # 提取电影的序号\n",
    "        movie_num = movie.find('em').text\n",
    "        # 提取电影名\n",
    "        movie_name = movie.find('span').text\n",
    "        # 提取电影的评分\n",
    "        movie_score = movie.find(\"span\", class_='rating_num').text\n",
    "        # 提取电影的推荐语\n",
    "        movie_instruction = movie.find(\"span\", class_='inq').text\n",
    "        # 提取电影的链接\n",
    "        movie_link = movie.find('a')['href']\n",
    "        \n",
    "            # 将信息添加到字典中\n",
    "        movie_dict = {\n",
    "            '序号': movie_num,\n",
    "            '电影名': movie_name,\n",
    "            '评分': movie_score,\n",
    "            '推荐语': movie_instruction,\n",
    "            '链接': movie_link\n",
    "        }\n",
    "        # 打印电影的信息\n",
    "        # print(movie_dict)\n",
    "        # 存储每部电影的信息\n",
    "        data_list.append(movie_dict)\n",
    "print(data_list[1:6])"
   ]
  },
  {
   "cell_type": "code",
   "execution_count": 5,
   "metadata": {},
   "outputs": [],
   "source": [
    "# 新建 csv 文件，用以存储电影信息\n",
    "with open('movies.csv', 'w', encoding='utf-8-sig') as f:\n",
    "    # 将文件对象转换成 DictWriter 对象\n",
    "    f_csv = csv.DictWriter(f, fieldnames = data_list[1].keys())\n",
    "    # 写入表头与数据\n",
    "    f_csv.writeheader()\n",
    "    f_csv.writerows(data_list)"
   ]
  },
  {
   "cell_type": "code",
   "execution_count": null,
   "metadata": {},
   "outputs": [],
   "source": []
  }
 ],
 "metadata": {
  "kernelspec": {
   "display_name": "Python 3",
   "language": "python",
   "name": "python3"
  },
  "language_info": {
   "codemirror_mode": {
    "name": "ipython",
    "version": 3
   },
   "file_extension": ".py",
   "mimetype": "text/x-python",
   "name": "python",
   "nbconvert_exporter": "python",
   "pygments_lexer": "ipython3",
   "version": "3.8.5"
  }
 },
 "nbformat": 4,
 "nbformat_minor": 4
}
